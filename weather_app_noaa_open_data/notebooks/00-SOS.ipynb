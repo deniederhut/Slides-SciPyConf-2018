{
 "cells": [
  {
   "cell_type": "code",
   "execution_count": 1,
   "metadata": {
    "slideshow": {
     "slide_type": "slide"
    }
   },
   "outputs": [
    {
     "name": "stdout",
     "output_type": "stream",
     "text": [
      "https://opendap.co-ops.nos.noaa.gov/ioos-dif-sos/SOS?service=SOS&request=GetObservation&version=1.0.0&observedProperty=water_surface_height_above_reference_datum&offering=urn:ioos:station:NOAA.NOS.CO-OPS:8771450&responseFormat=text/csv&eventTime=2018-07-12T00:00:00Z/2018-07-13T00:00:00Z&result=VerticalDatum==urn:ogc:def:datum:epsg::5103&dataType=PreliminarySixMinute\n"
     ]
    }
   ],
   "source": [
    "import pendulum\n",
    "\n",
    "variable = 'water_surface_height_above_reference_datum'\n",
    "today = pendulum.today(tz='UTC')\n",
    "yesterday = today.subtract(days=1)\n",
    "\n",
    "buoy = '8771450'\n",
    "\n",
    "url = (\n",
    "    'https://opendap.co-ops.nos.noaa.gov/ioos-dif-sos/SOS?'\n",
    "    'service=SOS'\n",
    "    '&request=GetObservation'\n",
    "    '&version=1.0.0'\n",
    "    f'&observedProperty={variable}'\n",
    "    f'&offering=urn:ioos:station:NOAA.NOS.CO-OPS:{buoy}'\n",
    "    '&responseFormat=text/csv'\n",
    "    f'&eventTime={yesterday:%Y-%m-%dT%H:%M:%SZ}/'\n",
    "    f'{today:%Y-%m-%dT%H:%M:%SZ}'\n",
    "    '&result=VerticalDatum==urn:ogc:def:datum:epsg::5103'\n",
    "    '&dataType=PreliminarySixMinute'\n",
    ")\n",
    "\n",
    "print(url)"
   ]
  },
  {
   "cell_type": "code",
   "execution_count": 2,
   "metadata": {
    "slideshow": {
     "slide_type": "slide"
    }
   },
   "outputs": [
    {
     "data": {
      "text/html": [
       "<div>\n",
       "<style scoped>\n",
       "    .dataframe tbody tr th:only-of-type {\n",
       "        vertical-align: middle;\n",
       "    }\n",
       "\n",
       "    .dataframe tbody tr th {\n",
       "        vertical-align: top;\n",
       "    }\n",
       "\n",
       "    .dataframe thead th {\n",
       "        text-align: right;\n",
       "    }\n",
       "</style>\n",
       "<table border=\"1\" class=\"dataframe\">\n",
       "  <thead>\n",
       "    <tr style=\"text-align: right;\">\n",
       "      <th></th>\n",
       "      <th>station_id</th>\n",
       "      <th>sensor_id</th>\n",
       "      <th>latitude (degree)</th>\n",
       "      <th>longitude (degree)</th>\n",
       "      <th>water_surface_height_above_reference_datum (m)</th>\n",
       "      <th>datum_id</th>\n",
       "      <th>vertical_position (m)</th>\n",
       "      <th>sigma</th>\n",
       "      <th>quality_flags</th>\n",
       "    </tr>\n",
       "    <tr>\n",
       "      <th>date_time</th>\n",
       "      <th></th>\n",
       "      <th></th>\n",
       "      <th></th>\n",
       "      <th></th>\n",
       "      <th></th>\n",
       "      <th></th>\n",
       "      <th></th>\n",
       "      <th></th>\n",
       "      <th></th>\n",
       "    </tr>\n",
       "  </thead>\n",
       "  <tbody>\n",
       "    <tr>\n",
       "      <th>2018-07-12 00:00:00</th>\n",
       "      <td>urn:ioos:station:NOAA.NOS.CO-OPS:8771450</td>\n",
       "      <td>urn:ioos:sensor:NOAA.NOS.CO-OPS:8771450:A1</td>\n",
       "      <td>29.31</td>\n",
       "      <td>-94.7933</td>\n",
       "      <td>-0.007</td>\n",
       "      <td>urn:ogc:def:datum:epsg::5103</td>\n",
       "      <td>1.379</td>\n",
       "      <td>0.002</td>\n",
       "      <td>1;0;0;0</td>\n",
       "    </tr>\n",
       "    <tr>\n",
       "      <th>2018-07-12 00:06:00</th>\n",
       "      <td>urn:ioos:station:NOAA.NOS.CO-OPS:8771450</td>\n",
       "      <td>urn:ioos:sensor:NOAA.NOS.CO-OPS:8771450:A1</td>\n",
       "      <td>29.31</td>\n",
       "      <td>-94.7933</td>\n",
       "      <td>-0.019</td>\n",
       "      <td>urn:ogc:def:datum:epsg::5103</td>\n",
       "      <td>1.379</td>\n",
       "      <td>0.004</td>\n",
       "      <td>0;0;0;0</td>\n",
       "    </tr>\n",
       "    <tr>\n",
       "      <th>2018-07-12 00:12:00</th>\n",
       "      <td>urn:ioos:station:NOAA.NOS.CO-OPS:8771450</td>\n",
       "      <td>urn:ioos:sensor:NOAA.NOS.CO-OPS:8771450:A1</td>\n",
       "      <td>29.31</td>\n",
       "      <td>-94.7933</td>\n",
       "      <td>-0.027</td>\n",
       "      <td>urn:ogc:def:datum:epsg::5103</td>\n",
       "      <td>1.379</td>\n",
       "      <td>0.003</td>\n",
       "      <td>1;0;0;0</td>\n",
       "    </tr>\n",
       "    <tr>\n",
       "      <th>2018-07-12 00:18:00</th>\n",
       "      <td>urn:ioos:station:NOAA.NOS.CO-OPS:8771450</td>\n",
       "      <td>urn:ioos:sensor:NOAA.NOS.CO-OPS:8771450:A1</td>\n",
       "      <td>29.31</td>\n",
       "      <td>-94.7933</td>\n",
       "      <td>-0.030</td>\n",
       "      <td>urn:ogc:def:datum:epsg::5103</td>\n",
       "      <td>1.379</td>\n",
       "      <td>0.003</td>\n",
       "      <td>1;0;0;0</td>\n",
       "    </tr>\n",
       "    <tr>\n",
       "      <th>2018-07-12 00:24:00</th>\n",
       "      <td>urn:ioos:station:NOAA.NOS.CO-OPS:8771450</td>\n",
       "      <td>urn:ioos:sensor:NOAA.NOS.CO-OPS:8771450:A1</td>\n",
       "      <td>29.31</td>\n",
       "      <td>-94.7933</td>\n",
       "      <td>-0.043</td>\n",
       "      <td>urn:ogc:def:datum:epsg::5103</td>\n",
       "      <td>1.379</td>\n",
       "      <td>0.003</td>\n",
       "      <td>0;0;0;0</td>\n",
       "    </tr>\n",
       "  </tbody>\n",
       "</table>\n",
       "</div>"
      ],
      "text/plain": [
       "                                                   station_id  \\\n",
       "date_time                                                       \n",
       "2018-07-12 00:00:00  urn:ioos:station:NOAA.NOS.CO-OPS:8771450   \n",
       "2018-07-12 00:06:00  urn:ioos:station:NOAA.NOS.CO-OPS:8771450   \n",
       "2018-07-12 00:12:00  urn:ioos:station:NOAA.NOS.CO-OPS:8771450   \n",
       "2018-07-12 00:18:00  urn:ioos:station:NOAA.NOS.CO-OPS:8771450   \n",
       "2018-07-12 00:24:00  urn:ioos:station:NOAA.NOS.CO-OPS:8771450   \n",
       "\n",
       "                                                      sensor_id  \\\n",
       "date_time                                                         \n",
       "2018-07-12 00:00:00  urn:ioos:sensor:NOAA.NOS.CO-OPS:8771450:A1   \n",
       "2018-07-12 00:06:00  urn:ioos:sensor:NOAA.NOS.CO-OPS:8771450:A1   \n",
       "2018-07-12 00:12:00  urn:ioos:sensor:NOAA.NOS.CO-OPS:8771450:A1   \n",
       "2018-07-12 00:18:00  urn:ioos:sensor:NOAA.NOS.CO-OPS:8771450:A1   \n",
       "2018-07-12 00:24:00  urn:ioos:sensor:NOAA.NOS.CO-OPS:8771450:A1   \n",
       "\n",
       "                     latitude (degree)  longitude (degree)  \\\n",
       "date_time                                                    \n",
       "2018-07-12 00:00:00              29.31            -94.7933   \n",
       "2018-07-12 00:06:00              29.31            -94.7933   \n",
       "2018-07-12 00:12:00              29.31            -94.7933   \n",
       "2018-07-12 00:18:00              29.31            -94.7933   \n",
       "2018-07-12 00:24:00              29.31            -94.7933   \n",
       "\n",
       "                     water_surface_height_above_reference_datum (m)  \\\n",
       "date_time                                                             \n",
       "2018-07-12 00:00:00                                          -0.007   \n",
       "2018-07-12 00:06:00                                          -0.019   \n",
       "2018-07-12 00:12:00                                          -0.027   \n",
       "2018-07-12 00:18:00                                          -0.030   \n",
       "2018-07-12 00:24:00                                          -0.043   \n",
       "\n",
       "                                         datum_id  vertical_position (m)  \\\n",
       "date_time                                                                  \n",
       "2018-07-12 00:00:00  urn:ogc:def:datum:epsg::5103                  1.379   \n",
       "2018-07-12 00:06:00  urn:ogc:def:datum:epsg::5103                  1.379   \n",
       "2018-07-12 00:12:00  urn:ogc:def:datum:epsg::5103                  1.379   \n",
       "2018-07-12 00:18:00  urn:ogc:def:datum:epsg::5103                  1.379   \n",
       "2018-07-12 00:24:00  urn:ogc:def:datum:epsg::5103                  1.379   \n",
       "\n",
       "                     sigma quality_flags  \n",
       "date_time                                 \n",
       "2018-07-12 00:00:00  0.002       1;0;0;0  \n",
       "2018-07-12 00:06:00  0.004       0;0;0;0  \n",
       "2018-07-12 00:12:00  0.003       1;0;0;0  \n",
       "2018-07-12 00:18:00  0.003       1;0;0;0  \n",
       "2018-07-12 00:24:00  0.003       0;0;0;0  "
      ]
     },
     "execution_count": 2,
     "metadata": {},
     "output_type": "execute_result"
    }
   ],
   "source": [
    "import pandas as pd\n",
    "\n",
    "\n",
    "df = pd.read_csv(url, index_col='date_time', parse_dates=True)\n",
    "\n",
    "df.head()"
   ]
  },
  {
   "cell_type": "code",
   "execution_count": 3,
   "metadata": {
    "slideshow": {
     "slide_type": "slide"
    }
   },
   "outputs": [
    {
     "data": {
      "image/png": "[encoded data removed]",
      "text/plain": [
       "<Figure size 432x288 with 1 Axes>"
      ]
     },
     "metadata": {},
     "output_type": "display_data"
    }
   ],
   "source": [
    "%matplotlib inline\n",
    "\n",
    "col = df.columns[df.columns.str.startswith(variable)]\n",
    "ax = df[col].plot.line(legend=False)\n",
    "ax.grid(True)\n",
    "ax.set_title(col.values[0]);"
   ]
  },
  {
   "cell_type": "code",
   "execution_count": 4,
   "metadata": {
    "slideshow": {
     "slide_type": "slide"
    }
   },
   "outputs": [
    {
     "data": {
      "text/html": [
       "<div style=\"width:100%;\"><div style=\"position:relative;width:100%;height:0;padding-bottom:60%;\"><iframe src=\"data:text/html;charset=utf-8;base64,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\" style=\"position:absolute;width:100%;height:100%;left:0;top:0;border:none !important;\" allowfullscreen webkitallowfullscreen mozallowfullscreen></iframe></div></div>"
      ],
      "text/plain": [
       "<folium.folium.Map at 0x7fa499f2ba20>"
      ]
     },
     "execution_count": 4,
     "metadata": {},
     "output_type": "execute_result"
    }
   ],
   "source": [
    "import folium\n",
    "\n",
    "\n",
    "location = df['latitude (degree)'].unique()[0], df['longitude (degree)'].unique()[0]\n",
    "m = folium.Map(location=location, zoom_start=12)\n",
    "folium.Marker(location=location).add_to(m)\n",
    "\n",
    "m"
   ]
  }
 ],
 "metadata": {
  "celltoolbar": "Slideshow",
  "kernelspec": {
   "display_name": "Python 3",
   "language": "python",
   "name": "python3"
  },
  "language_info": {
   "codemirror_mode": {
    "name": "ipython",
    "version": 3
   },
   "file_extension": ".py",
   "mimetype": "text/x-python",
   "name": "python",
   "nbconvert_exporter": "python",
   "pygments_lexer": "ipython3",
   "version": "3.6.5"
  }
 },
 "nbformat": 4,
 "nbformat_minor": 2
}
