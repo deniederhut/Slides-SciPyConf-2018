{
 "cells": [
  {
   "cell_type": "markdown",
   "metadata": {},
   "source": [
    "# Explore ERDDAP timeseries data using Jupyter Widgets"
   ]
  },
  {
   "cell_type": "code",
   "execution_count": 1,
   "metadata": {},
   "outputs": [],
   "source": [
    "from erddapy import ERDDAP\n",
    "\n",
    "\n",
    "server = 'http://www.neracoos.org/erddap'\n",
    "e = ERDDAP(server=server)\n",
    "\n",
    "e.protocol = 'tabledap'"
   ]
  },
  {
   "cell_type": "code",
   "execution_count": 2,
   "metadata": {},
   "outputs": [],
   "source": [
    "import pendulum\n",
    "\n",
    "\n",
    "initial_standard_name = 'significant_height_of_wind_and_swell_waves'\n",
    "\n",
    "zoom = 6\n",
    "center = [42.5, -68]\n",
    "nchar = 3 # number of characters for short dataset name\n",
    "cdm_data_type = 'TimeSeries'\n",
    "\n",
    "max_time = pendulum.now(tz='UTC')\n",
    "min_time = max_time.subtract(weeks=2) "
   ]
  },
  {
   "cell_type": "code",
   "execution_count": 3,
   "metadata": {
    "scrolled": true
   },
   "outputs": [],
   "source": [
    "import pandas as pd\n",
    "\n",
    "\n",
    "url = '{}/categorize/standard_name/index.csv'.format(server)\n",
    "df = pd.read_csv(url, skiprows=[1, 2])\n",
    "variables = df['Category'].values"
   ]
  },
  {
   "cell_type": "code",
   "execution_count": 4,
   "metadata": {},
   "outputs": [],
   "source": [
    "import ipywidgets\n",
    "\n",
    "dpdown = ipywidgets.Dropdown(options=variables, value=initial_standard_name)"
   ]
  },
  {
   "cell_type": "code",
   "execution_count": 5,
   "metadata": {},
   "outputs": [],
   "source": [
    "def point(dataset, lon, lat, nchar):\n",
    "    geojsonFeature = {\n",
    "        \"type\": \"Feature\",\n",
    "        \"properties\": {\n",
    "            \"datasetID\": dataset,\n",
    "            \"short_dataset_name\": dataset[:nchar]\n",
    "        },\n",
    "        \"geometry\": {\n",
    "            \"type\": \"Point\",\n",
    "            \"coordinates\": [lon, lat]\n",
    "        }\n",
    "    };\n",
    "    geojsonFeature['properties']['style'] = {'color': 'Grey'}\n",
    "    return geojsonFeature"
   ]
  },
  {
   "cell_type": "code",
   "execution_count": 6,
   "metadata": {},
   "outputs": [],
   "source": [
    "def adv_search(e, standard_name, cdm_data_type, min_time, max_time):\n",
    "    try:\n",
    "        search_url = e.get_search_url(\n",
    "            response='csv',\n",
    "            cdm_data_type=cdm_data_type.lower(),\n",
    "            items_per_page=100000,\n",
    "            standard_name=standard_name,\n",
    "            min_time=min_time,\n",
    "            max_time=max_time\n",
    "        )\n",
    "        df = pd.read_csv(search_url)\n",
    "    except:\n",
    "        df = []\n",
    "        if len(var)>14:\n",
    "            v = '{}...'.format(standard_name[:15])\n",
    "        else:\n",
    "            v = standard_name\n",
    "        figure.title = 'No {} found in this time range. Pick another variable.'.format(v)\n",
    "        figure.marks[0].y = 0.0 * figure.marks[0].y\n",
    "    return df"
   ]
  },
  {
   "cell_type": "code",
   "execution_count": 7,
   "metadata": {},
   "outputs": [],
   "source": [
    "def alllonlat(e, cdm_data_type, min_time, max_time):\n",
    "    import io\n",
    "    import requests\n",
    "    url = (\n",
    "        f'{e.server}/tabledap/allDatasets.csv?'\n",
    "        'datasetID,minLongitude,minLatitude'\n",
    "        f'&cdm_data_type=\"{cdm_data_type}\"'\n",
    "        f'&minTime<={max_time}'\n",
    "        f'&maxTime>={min_time}'\n",
    "    )\n",
    "    data = io.BytesIO(requests.get(url).content)\n",
    "    df = pd.read_csv(data, skiprows=[1])\n",
    "    return df"
   ]
  },
  {
   "cell_type": "code",
   "execution_count": 8,
   "metadata": {},
   "outputs": [],
   "source": [
    "def stdname2geojson(e, standard_name, min_time, max_time, nchar):\n",
    "    dfa = adv_search(e, standard_name, cdm_data_type, min_time, max_time)\n",
    "    if isinstance(dfa, pd.DataFrame):\n",
    "        datasets = dfa['Dataset ID'].values\n",
    "        dfll = alllonlat(e, cdm_data_type, min_time, max_time)\n",
    "        dfr = dfll[dfll['datasetID'].isin(dfa['Dataset ID'])]\n",
    "        geojson = {'features':[point(row[1],row[2],row[3],nchar) for row in dfr.itertuples()]}\n",
    "    else:\n",
    "        geojson = {'features':[]}\n",
    "        datasets = []\n",
    "    return geojson, datasets"
   ]
  },
  {
   "cell_type": "code",
   "execution_count": 9,
   "metadata": {},
   "outputs": [],
   "source": [
    "def click_handler(event=None, id=None, properties=None):\n",
    "    datasetID = properties['datasetID']\n",
    "    kwargs = {'time>=': min_time, 'time<=': max_time}\n",
    "    df, var = get_data(datasetID, dpdown.value, kwargs)\n",
    "    figure.marks[0].x = df.index\n",
    "    figure.marks[0].y = df[var]\n",
    "    figure.title = '{} - {}'.format(properties['short_dataset_name'], var)"
   ]
  },
  {
   "cell_type": "code",
   "execution_count": 10,
   "metadata": {},
   "outputs": [],
   "source": [
    "import ipyleaflet\n",
    "\n",
    "\n",
    "def update_dpdown(change):\n",
    "    standard_name = change['new']\n",
    "    data, datasets = stdname2geojson(e, standard_name, min_time, max_time, nchar)\n",
    "    feature_layer = ipyleaflet.GeoJSON(data=data)\n",
    "    feature_layer.on_click(click_handler)\n",
    "    m.layers = [m.layers[0], feature_layer]"
   ]
  },
  {
   "cell_type": "code",
   "execution_count": 11,
   "metadata": {},
   "outputs": [],
   "source": [
    "dpdown.observe(update_dpdown, names=['value'])"
   ]
  },
  {
   "cell_type": "code",
   "execution_count": 12,
   "metadata": {},
   "outputs": [],
   "source": [
    "def get_data(dataset, standard_name, kwargs):\n",
    "    var = e.get_var_by_attr(\n",
    "        dataset_id=dataset,\n",
    "        standard_name=lambda v: str(v).lower() == standard_name)[0]\n",
    "    e.dataset_id = dataset\n",
    "    e.variables = ['time', var]\n",
    "    e.constraints = kwargs\n",
    "    df = e.to_pandas(index_col='time', parse_dates=True, skiprows=[1])\n",
    "    return df, var"
   ]
  },
  {
   "cell_type": "code",
   "execution_count": 13,
   "metadata": {},
   "outputs": [],
   "source": [
    "m = ipyleaflet.Map(\n",
    "    center=center,\n",
    "    zoom=zoom,\n",
    ")\n",
    "\n",
    "data, datasets = stdname2geojson(e, initial_standard_name, min_time, max_time, nchar)\n",
    "feature_layer = ipyleaflet.GeoJSON(data=data)\n",
    "feature_layer.on_click(click_handler)\n",
    "m.layers = [m.layers[0], feature_layer]"
   ]
  },
  {
   "cell_type": "code",
   "execution_count": 14,
   "metadata": {
    "scrolled": false
   },
   "outputs": [],
   "source": [
    "import bqplot\n",
    "\n",
    "\n",
    "dt_x = bqplot.DateScale()\n",
    "sc_y = bqplot.LinearScale()\n",
    "\n",
    "initial_dataset = datasets[0]\n",
    "kwargs = {'time>=': min_time, 'time<=': max_time}\n",
    "df, var = get_data(initial_dataset, initial_standard_name, kwargs)\n",
    "time_series = bqplot.Lines(x=df.index, y=df[var], scales={'x': dt_x, 'y': sc_y})\n",
    "ax_x = bqplot.Axis(scale=dt_x, label='Time')\n",
    "ax_y = bqplot.Axis(scale=sc_y, orientation='vertical')\n",
    "figure = bqplot.Figure(marks=[time_series], axes=[ax_x, ax_y])\n",
    "figure.title = '{} - {}'.format(initial_dataset[:nchar], var)\n",
    "figure.layout.height = '300px'\n",
    "figure.layout.width = '800px'"
   ]
  },
  {
   "cell_type": "code",
   "execution_count": 15,
   "metadata": {},
   "outputs": [
    {
     "data": {
      "application/vnd.jupyter.widget-view+json": {
       "model_id": "08d259b04260492aa6c96102444b0034",
       "version_major": 2,
       "version_minor": 0
      },
      "text/plain": [
       "VBox(children=(Dropdown(index=111, options=('air_temp', 'air_temperature', 'air_temperature_data_quality', 'al…"
      ]
     },
     "metadata": {},
     "output_type": "display_data"
    }
   ],
   "source": [
    "ipywidgets.VBox([dpdown, m, figure])"
   ]
  }
 ],
 "metadata": {
  "kernelspec": {
   "display_name": "Python [default]",
   "language": "python",
   "name": "python3"
  },
  "language_info": {
   "codemirror_mode": {
    "name": "ipython",
    "version": 3
   },
   "file_extension": ".py",
   "mimetype": "text/x-python",
   "name": "python",
   "nbconvert_exporter": "python",
   "pygments_lexer": "ipython3",
   "version": "3.6.5"
  }
 },
 "nbformat": 4,
 "nbformat_minor": 2
}
